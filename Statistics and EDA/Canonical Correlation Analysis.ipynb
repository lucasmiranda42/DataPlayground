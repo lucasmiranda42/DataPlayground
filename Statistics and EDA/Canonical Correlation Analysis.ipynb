{
 "cells": [
  {
   "cell_type": "markdown",
   "metadata": {},
   "source": [
    "# Canonical Correlation Analysis tutorial\n",
    "\n",
    "Based on Liana Mehrabyan's TDS post:\n",
    "https://towardsdatascience.com/understanding-how-schools-work-with-canonical-correlation-analysis-4c9a88c6b913"
   ]
  },
  {
   "cell_type": "code",
   "execution_count": 126,
   "metadata": {},
   "outputs": [],
   "source": [
    "import pandas as pd\n",
    "import numpy as np\n",
    "df = pd.read_csv('data-science-for-good/2016 School Explorer.csv')"
   ]
  },
  {
   "cell_type": "code",
   "execution_count": 127,
   "metadata": {},
   "outputs": [],
   "source": [
    "# choose relevant features\n",
    "df = df[['Rigorous Instruction %',\n",
    "         'Collaborative Teachers %',\n",
    "         'Supportive Environment %',\n",
    "         'Effective School Leadership %',\n",
    "         'Strong Family-Community Ties %',\n",
    "         'Trust %','Average ELA Proficiency',\n",
    "         'Average Math Proficiency']]"
   ]
  },
  {
   "cell_type": "code",
   "execution_count": 128,
   "metadata": {},
   "outputs": [],
   "source": [
    "df = df.dropna()"
   ]
  },
  {
   "cell_type": "code",
   "execution_count": 129,
   "metadata": {},
   "outputs": [],
   "source": [
    "X = df[['Rigorous Instruction %',\n",
    "        'Collaborative Teachers %',\n",
    "        'Supportive Environment %',\n",
    "        'Effective School Leadership %',\n",
    "        'Strong Family-Community Ties %',\n",
    "        'Trust %']].copy()"
   ]
  },
  {
   "cell_type": "code",
   "execution_count": 130,
   "metadata": {},
   "outputs": [],
   "source": [
    "Y = df[['Average ELA Proficiency',\n",
    "        'Average Math Proficiency']].copy()"
   ]
  },
  {
   "cell_type": "code",
   "execution_count": 131,
   "metadata": {},
   "outputs": [
    {
     "data": {
      "text/html": [
       "<div>\n",
       "<style scoped>\n",
       "    .dataframe tbody tr th:only-of-type {\n",
       "        vertical-align: middle;\n",
       "    }\n",
       "\n",
       "    .dataframe tbody tr th {\n",
       "        vertical-align: top;\n",
       "    }\n",
       "\n",
       "    .dataframe thead th {\n",
       "        text-align: right;\n",
       "    }\n",
       "</style>\n",
       "<table border=\"1\" class=\"dataframe\">\n",
       "  <thead>\n",
       "    <tr style=\"text-align: right;\">\n",
       "      <th></th>\n",
       "      <th>Rigorous Instruction %</th>\n",
       "      <th>Collaborative Teachers %</th>\n",
       "      <th>Supportive Environment %</th>\n",
       "      <th>Effective School Leadership %</th>\n",
       "      <th>Strong Family-Community Ties %</th>\n",
       "      <th>Trust %</th>\n",
       "    </tr>\n",
       "  </thead>\n",
       "  <tbody>\n",
       "    <tr>\n",
       "      <th>0</th>\n",
       "      <td>89%</td>\n",
       "      <td>94%</td>\n",
       "      <td>86%</td>\n",
       "      <td>91%</td>\n",
       "      <td>85%</td>\n",
       "      <td>94%</td>\n",
       "    </tr>\n",
       "    <tr>\n",
       "      <th>1</th>\n",
       "      <td>96%</td>\n",
       "      <td>96%</td>\n",
       "      <td>97%</td>\n",
       "      <td>90%</td>\n",
       "      <td>86%</td>\n",
       "      <td>94%</td>\n",
       "    </tr>\n",
       "    <tr>\n",
       "      <th>2</th>\n",
       "      <td>87%</td>\n",
       "      <td>77%</td>\n",
       "      <td>82%</td>\n",
       "      <td>61%</td>\n",
       "      <td>80%</td>\n",
       "      <td>79%</td>\n",
       "    </tr>\n",
       "    <tr>\n",
       "      <th>3</th>\n",
       "      <td>85%</td>\n",
       "      <td>78%</td>\n",
       "      <td>82%</td>\n",
       "      <td>73%</td>\n",
       "      <td>89%</td>\n",
       "      <td>88%</td>\n",
       "    </tr>\n",
       "    <tr>\n",
       "      <th>4</th>\n",
       "      <td>90%</td>\n",
       "      <td>88%</td>\n",
       "      <td>87%</td>\n",
       "      <td>81%</td>\n",
       "      <td>89%</td>\n",
       "      <td>93%</td>\n",
       "    </tr>\n",
       "  </tbody>\n",
       "</table>\n",
       "</div>"
      ],
      "text/plain": [
       "  Rigorous Instruction % Collaborative Teachers % Supportive Environment %  \\\n",
       "0                    89%                      94%                      86%   \n",
       "1                    96%                      96%                      97%   \n",
       "2                    87%                      77%                      82%   \n",
       "3                    85%                      78%                      82%   \n",
       "4                    90%                      88%                      87%   \n",
       "\n",
       "  Effective School Leadership % Strong Family-Community Ties % Trust %  \n",
       "0                           91%                            85%     94%  \n",
       "1                           90%                            86%     94%  \n",
       "2                           61%                            80%     79%  \n",
       "3                           73%                            89%     88%  \n",
       "4                           81%                            89%     93%  "
      ]
     },
     "execution_count": 131,
     "metadata": {},
     "output_type": "execute_result"
    }
   ],
   "source": [
    "X.head()"
   ]
  },
  {
   "cell_type": "code",
   "execution_count": 132,
   "metadata": {},
   "outputs": [
    {
     "data": {
      "text/html": [
       "<div>\n",
       "<style scoped>\n",
       "    .dataframe tbody tr th:only-of-type {\n",
       "        vertical-align: middle;\n",
       "    }\n",
       "\n",
       "    .dataframe tbody tr th {\n",
       "        vertical-align: top;\n",
       "    }\n",
       "\n",
       "    .dataframe thead th {\n",
       "        text-align: right;\n",
       "    }\n",
       "</style>\n",
       "<table border=\"1\" class=\"dataframe\">\n",
       "  <thead>\n",
       "    <tr style=\"text-align: right;\">\n",
       "      <th></th>\n",
       "      <th>Average ELA Proficiency</th>\n",
       "      <th>Average Math Proficiency</th>\n",
       "    </tr>\n",
       "  </thead>\n",
       "  <tbody>\n",
       "    <tr>\n",
       "      <th>0</th>\n",
       "      <td>2.14</td>\n",
       "      <td>2.17</td>\n",
       "    </tr>\n",
       "    <tr>\n",
       "      <th>1</th>\n",
       "      <td>2.63</td>\n",
       "      <td>2.98</td>\n",
       "    </tr>\n",
       "    <tr>\n",
       "      <th>2</th>\n",
       "      <td>2.39</td>\n",
       "      <td>2.54</td>\n",
       "    </tr>\n",
       "    <tr>\n",
       "      <th>3</th>\n",
       "      <td>2.48</td>\n",
       "      <td>2.47</td>\n",
       "    </tr>\n",
       "    <tr>\n",
       "      <th>4</th>\n",
       "      <td>2.38</td>\n",
       "      <td>2.54</td>\n",
       "    </tr>\n",
       "  </tbody>\n",
       "</table>\n",
       "</div>"
      ],
      "text/plain": [
       "   Average ELA Proficiency  Average Math Proficiency\n",
       "0                     2.14                      2.17\n",
       "1                     2.63                      2.98\n",
       "2                     2.39                      2.54\n",
       "3                     2.48                      2.47\n",
       "4                     2.38                      2.54"
      ]
     },
     "execution_count": 132,
     "metadata": {},
     "output_type": "execute_result"
    }
   ],
   "source": [
    "Y.head()"
   ]
  },
  {
   "cell_type": "code",
   "execution_count": 134,
   "metadata": {},
   "outputs": [],
   "source": [
    "#Convert all variables to numeric\n",
    "for col in X.columns:\n",
    "    X.loc[:,col] = X.loc[:,col].str.strip('%')\n",
    "    X.loc[:,col] = X.loc[:,col].astype('int')"
   ]
  },
  {
   "cell_type": "code",
   "execution_count": 135,
   "metadata": {},
   "outputs": [],
   "source": [
    "# Standardise the data\n",
    "from sklearn.preprocessing import StandardScaler\n",
    "sc = StandardScaler(with_mean=True, with_std=True)\n",
    "X_sc = sc.fit_transform(X)\n",
    "Y_sc = sc.fit_transform(Y)"
   ]
  },
  {
   "cell_type": "markdown",
   "metadata": {},
   "source": [
    "### CCA itself!"
   ]
  },
  {
   "cell_type": "code",
   "execution_count": 146,
   "metadata": {},
   "outputs": [],
   "source": [
    "from pyrcca import rcca"
   ]
  },
  {
   "cell_type": "code",
   "execution_count": 148,
   "metadata": {},
   "outputs": [],
   "source": [
    "nComponents = 2\n",
    "cca = rcca.CCA(kernelcca=False, reg=0., numCC=nComponents)"
   ]
  },
  {
   "cell_type": "code",
   "execution_count": 150,
   "metadata": {},
   "outputs": [
    {
     "name": "stdout",
     "output_type": "stream",
     "text": [
      "Training CCA, kernel = None, regularization = 0.0000, 2 components\n"
     ]
    },
    {
     "data": {
      "text/plain": [
       "<pyrcca.rcca.CCA at 0x1a1fc5f160>"
      ]
     },
     "execution_count": 150,
     "metadata": {},
     "output_type": "execute_result"
    }
   ],
   "source": [
    "cca.train([X_sc, Y_sc])"
   ]
  },
  {
   "cell_type": "code",
   "execution_count": 151,
   "metadata": {},
   "outputs": [
    {
     "name": "stdout",
     "output_type": "stream",
     "text": [
      "CC per component par: [0.46059902 0.18447786]\n"
     ]
    }
   ],
   "source": [
    "print('CC per component par: {}'.format(cca.cancorrs))"
   ]
  },
  {
   "cell_type": "code",
   "execution_count": 152,
   "metadata": {},
   "outputs": [
    {
     "name": "stdout",
     "output_type": "stream",
     "text": [
      "% Shared variance: [0.21215146 0.03403208]\n"
     ]
    }
   ],
   "source": [
    "print('% Shared variance: {}'.format(cca.cancorrs**2))"
   ]
  },
  {
   "cell_type": "code",
   "execution_count": 153,
   "metadata": {},
   "outputs": [
    {
     "data": {
      "text/plain": [
       "[array([[-0.00375779,  0.0078263 ],\n",
       "        [ 0.00061439, -0.00357358],\n",
       "        [-0.02054012, -0.0083491 ],\n",
       "        [-0.01252477,  0.02976148],\n",
       "        [ 0.00046503, -0.00905069],\n",
       "        [ 0.01415084, -0.01264106]]),\n",
       " array([[ 0.00632283,  0.05721601],\n",
       "        [-0.02606459, -0.05132531]])]"
      ]
     },
     "execution_count": 153,
     "metadata": {},
     "output_type": "execute_result"
    }
   ],
   "source": [
    "cca.ws"
   ]
  },
  {
   "cell_type": "code",
   "execution_count": 154,
   "metadata": {},
   "outputs": [
    {
     "name": "stdout",
     "output_type": "stream",
     "text": [
      "Canonical Loading for Math Score: -0.4106778140971078\n",
      "Canonical Loading for ELA Score: -0.4578120954218727\n"
     ]
    }
   ],
   "source": [
    "print('Canonical Loading for Math Score:',\n",
    "      np.corrcoef(cca.comps[0][:,0],Y_sc[:,0])[0,1])\n",
    "print('Canonical Loading for ELA Score:',\n",
    "      np.corrcoef(cca.comps[0][:,0],Y_sc[:,1])[0,1])"
   ]
  },
  {
   "cell_type": "code",
   "execution_count": 161,
   "metadata": {},
   "outputs": [
    {
     "name": "stdout",
     "output_type": "stream",
     "text": [
      "CVX\n",
      "[[ 0.00521903  0.01840999]\n",
      " [-0.03173083  0.00669952]\n",
      " [ 0.02066659 -0.02319188]\n",
      " ...\n",
      " [ 0.00029259  0.0018127 ]\n",
      " [-0.02341333 -0.00532078]\n",
      " [ 0.00647899  0.00178834]] \n",
      "\n",
      "First CV for X\n",
      "[ 0.00521903 -0.03173083  0.02066659 ...  0.00029259 -0.02341333\n",
      "  0.00647899] \n",
      "\n",
      "Second CV for X\n",
      "[ 0.01840999  0.00669952 -0.02319188 ...  0.0018127  -0.00532078\n",
      "  0.00178834] \n",
      "\n",
      "CVY\n",
      "[[ 0.02079591 -0.00760554]\n",
      " [-0.01557288 -0.01886755]\n",
      " [ 0.00463834 -0.00862955]\n",
      " ...\n",
      " [-0.01923392 -0.00883273]\n",
      " [-0.03327623 -0.05742338]\n",
      " [-0.02529823 -0.02446945]] \n",
      "\n",
      "First CV for Y\n",
      "[ 0.02079591 -0.01557288  0.00463834 ... -0.01923392 -0.03327623\n",
      " -0.02529823] \n",
      "\n",
      "Second CV for Y\n",
      "[-0.00760554 -0.01886755 -0.00862955 ... -0.00883273 -0.05742338\n",
      " -0.02446945] \n",
      "\n"
     ]
    }
   ],
   "source": [
    "print('CVX')\n",
    "print(cca.comps[0], '\\n')\n",
    "print('First CV for X')\n",
    "print(cca.comps[0][:,0], '\\n')\n",
    "print('Second CV for X')\n",
    "print(cca.comps[0][:,1], '\\n')\n",
    "print('CVY')\n",
    "print(cca.comps[1], '\\n')\n",
    "print('First CV for Y')\n",
    "print(cca.comps[1][:,0], '\\n')\n",
    "print('Second CV for Y')\n",
    "print(cca.comps[1][:,1], '\\n')"
   ]
  },
  {
   "cell_type": "code",
   "execution_count": null,
   "metadata": {},
   "outputs": [],
   "source": []
  }
 ],
 "metadata": {
  "kernelspec": {
   "display_name": "Python 3",
   "language": "python",
   "name": "python3"
  },
  "language_info": {
   "codemirror_mode": {
    "name": "ipython",
    "version": 3
   },
   "file_extension": ".py",
   "mimetype": "text/x-python",
   "name": "python",
   "nbconvert_exporter": "python",
   "pygments_lexer": "ipython3",
   "version": "3.6.10"
  }
 },
 "nbformat": 4,
 "nbformat_minor": 4
}
