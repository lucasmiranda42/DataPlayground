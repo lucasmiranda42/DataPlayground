{
 "cells": [
  {
   "cell_type": "code",
   "execution_count": 1,
   "metadata": {},
   "outputs": [
    {
     "name": "stderr",
     "output_type": "stream",
     "text": [
      "Using TensorFlow backend.\n"
     ]
    }
   ],
   "source": [
    "from keras.datasets import mnist\n",
    "import numpy as np\n",
    "import matplotlib.pyplot as plt"
   ]
  },
  {
   "cell_type": "code",
   "execution_count": 60,
   "metadata": {},
   "outputs": [
    {
     "data": {
      "text/plain": [
       "(70000, 28, 28)"
      ]
     },
     "execution_count": 60,
     "metadata": {},
     "output_type": "execute_result"
    }
   ],
   "source": [
    "(X_train, _), (X_test, _) = mnist.load_data()\n",
    "all_data = np.concatenate((X_train, X_test))\n",
    "all_data.shape"
   ]
  },
  {
   "cell_type": "code",
   "execution_count": 61,
   "metadata": {},
   "outputs": [],
   "source": [
    "import tensorflow as tf\n",
    "from tensorflow import keras\n",
    "from tensorflow.keras.layers import Dense, Flatten, Reshape\n",
    "keras.backend.clear_session()"
   ]
  },
  {
   "cell_type": "code",
   "execution_count": 62,
   "metadata": {},
   "outputs": [],
   "source": [
    "#Custom layers for efficiency\n",
    "class DenseTranspose(tf.keras.layers.Layer):\n",
    "    def __init__(self, dense, activation=None, **kwargs):\n",
    "        self.dense = dense\n",
    "        self.activation = tf.keras.activations.get(activation)\n",
    "        super().__init__(**kwargs)\n",
    "    def build(self, batch_input_shape):\n",
    "        self.biases = self.add_weight(name='bias',\n",
    "                                      shape=[self.dense.input_shape[-1]],\n",
    "                                      initializer='zeros')\n",
    "        super().build(batch_input_shape)\n",
    "    def call(self, inputs):\n",
    "        z = tf.matmul(inputs, self.dense.weights[0], transpose_b=True)\n",
    "        return self.activation(z + self.biases)"
   ]
  },
  {
   "cell_type": "code",
   "execution_count": 63,
   "metadata": {},
   "outputs": [
    {
     "name": "stdout",
     "output_type": "stream",
     "text": [
      "Model: \"model\"\n",
      "_________________________________________________________________\n",
      "Layer (type)                 Output Shape              Param #   \n",
      "=================================================================\n",
      "input_1 (InputLayer)         [(None, 28, 28, 1)]       0         \n",
      "_________________________________________________________________\n",
      "flatten (Flatten)            (None, 784)               0         \n",
      "_________________________________________________________________\n",
      "dense (Dense)                (None, 784)               615440    \n",
      "_________________________________________________________________\n",
      "dense_1 (Dense)              (None, 392)               307720    \n",
      "_________________________________________________________________\n",
      "dense_2 (Dense)              (None, 196)               77028     \n",
      "_________________________________________________________________\n",
      "dense_transpose (DenseTransp (None, 392)               77420     \n",
      "_________________________________________________________________\n",
      "dense_transpose_1 (DenseTran (None, 784)               308504    \n",
      "_________________________________________________________________\n",
      "dense_transpose_2 (DenseTran (None, 784)               616224    \n",
      "_________________________________________________________________\n",
      "reshape (Reshape)            (None, 28, 28)            0         \n",
      "=================================================================\n",
      "Total params: 1,002,148\n",
      "Trainable params: 1,002,148\n",
      "Non-trainable params: 0\n",
      "_________________________________________________________________\n"
     ]
    }
   ],
   "source": [
    "inputs = keras.Input(shape=(28,28,1))\n",
    "dense_1 = Dense(784, activation='selu')\n",
    "dense_2 = Dense(392, activation='selu')\n",
    "dense_3 = Dense(196, activation='selu')\n",
    "\n",
    "x = Flatten()(inputs)\n",
    "\n",
    "#Encoder\n",
    "x = dense_1(x)\n",
    "x = dense_2(x)\n",
    "x = dense_3(x)\n",
    "x = DenseTranspose(dense_3, activation='selu')(x)\n",
    "x = DenseTranspose(dense_2, activation='selu')(x)\n",
    "x = DenseTranspose(dense_1, activation='sigmoid')(x)\n",
    "\n",
    "outputs = Reshape([28,28])(x)\n",
    "\n",
    "tied_ae = keras.Model(inputs=inputs, outputs=outputs)\n",
    "tied_ae.summary()"
   ]
  },
  {
   "cell_type": "code",
   "execution_count": 64,
   "metadata": {},
   "outputs": [],
   "source": [
    "X_train      = X_train.astype('float32') / 255\n",
    "X_test       = X_test.astype('float32') / 255\n",
    "X_train_norm = np.reshape(X_train, (60000,28,28,1))\n",
    "X_test_norm  = np.reshape(X_test,  (10000,28,28,1))"
   ]
  },
  {
   "cell_type": "code",
   "execution_count": 65,
   "metadata": {},
   "outputs": [
    {
     "name": "stdout",
     "output_type": "stream",
     "text": [
      "Train on 60000 samples, validate on 10000 samples\n",
      "Epoch 1/10\n",
      "60000/60000 [==============================] - 23s 380us/sample - loss: 0.0082 - accuracy: 0.2973 - val_loss: 0.0037 - val_accuracy: 0.3213\n",
      "Epoch 2/10\n",
      "60000/60000 [==============================] - 22s 363us/sample - loss: 0.0035 - accuracy: 0.3346 - val_loss: 0.0033 - val_accuracy: 0.3297\n",
      "Epoch 3/10\n",
      "60000/60000 [==============================] - 23s 380us/sample - loss: 0.0032 - accuracy: 0.3404 - val_loss: 0.0030 - val_accuracy: 0.3313\n",
      "Epoch 4/10\n",
      "60000/60000 [==============================] - 23s 381us/sample - loss: 0.0031 - accuracy: 0.3434 - val_loss: 0.0029 - val_accuracy: 0.3367\n",
      "Epoch 5/10\n",
      "60000/60000 [==============================] - 24s 393us/sample - loss: 0.0029 - accuracy: 0.3462 - val_loss: 0.0030 - val_accuracy: 0.3407\n",
      "Epoch 6/10\n",
      "60000/60000 [==============================] - 26s 438us/sample - loss: 0.0029 - accuracy: 0.3475 - val_loss: 0.0028 - val_accuracy: 0.3455\n",
      "Epoch 7/10\n",
      "60000/60000 [==============================] - 25s 413us/sample - loss: 0.0028 - accuracy: 0.3488 - val_loss: 0.0028 - val_accuracy: 0.3404\n",
      "Epoch 8/10\n",
      "60000/60000 [==============================] - 25s 415us/sample - loss: 0.0027 - accuracy: 0.3491 - val_loss: 0.0027 - val_accuracy: 0.3436\n",
      "Epoch 9/10\n",
      "60000/60000 [==============================] - 24s 401us/sample - loss: 0.0028 - accuracy: 0.3495 - val_loss: 0.0029 - val_accuracy: 0.3439\n",
      "Epoch 10/10\n",
      "60000/60000 [==============================] - 24s 406us/sample - loss: 0.0025 - accuracy: 0.3519 - val_loss: 0.0027 - val_accuracy: 0.3448\n"
     ]
    }
   ],
   "source": [
    "tied_ae.compile(optimizer='adam', loss='mse', metrics=['accuracy'])\n",
    "hist = tied_ae.fit(X_train_norm, X_train_norm, epochs=10, validation_data=[X_test_norm, X_test_norm])"
   ]
  },
  {
   "cell_type": "code",
   "execution_count": 66,
   "metadata": {},
   "outputs": [
    {
     "data": {
      "image/png": "[encoded data removed]",
      "text/plain": [
       "<Figure size 432x288 with 1 Axes>"
      ]
     },
     "metadata": {
      "needs_background": "light"
     },
     "output_type": "display_data"
    }
   ],
   "source": [
    "plt.plot(hist.history['loss'], linewidth=2, label='Train')\n",
    "plt.plot(hist.history['val_loss'], linewidth=2, label='Validation')\n",
    "plt.legend(loc='upper right')\n",
    "plt.title('Model loss')\n",
    "plt.ylabel('Loss')\n",
    "plt.xlabel('Epoch')\n",
    "plt.show()"
   ]
  },
  {
   "cell_type": "code",
   "execution_count": 67,
   "metadata": {},
   "outputs": [],
   "source": [
    "# Encode and decode some digits\n",
    "decoded_imgs = tied_ae.predict(X_test_norm)"
   ]
  },
  {
   "cell_type": "code",
   "execution_count": 68,
   "metadata": {},
   "outputs": [
    {
     "data": {
      "image/png": "[encoded data removed]",
      "text/plain": [
       "<Figure size 1440x288 with 20 Axes>"
      ]
     },
     "metadata": {
      "needs_background": "light"
     },
     "output_type": "display_data"
    }
   ],
   "source": [
    "n=10\n",
    "plt.figure(figsize=(20,4))\n",
    "\n",
    "for i in range(n):\n",
    "    ax = plt.subplot(2,n,i+1)\n",
    "    plt.imshow(x_test_norm[i].reshape(28,28))\n",
    "    plt.gray()\n",
    "    ax.get_xaxis().set_visible(False)\n",
    "    ax.get_yaxis().set_visible(False)\n",
    "    \n",
    "    ax = plt.subplot(2, n, i+1+n)\n",
    "    plt.imshow(decoded_imgs[i].reshape(28,28))\n",
    "    plt.gray()\n",
    "    ax.get_xaxis().set_visible(False)\n",
    "    ax.get_yaxis().set_visible(False)\n",
    "\n",
    "plt.show()"
   ]
  },
  {
   "cell_type": "code",
   "execution_count": null,
   "metadata": {},
   "outputs": [],
   "source": []
  }
 ],
 "metadata": {
  "kernelspec": {
   "display_name": "Python 3",
   "language": "python",
   "name": "python3"
  },
  "language_info": {
   "codemirror_mode": {
    "name": "ipython",
    "version": 3
   },
   "file_extension": ".py",
   "mimetype": "text/x-python",
   "name": "python",
   "nbconvert_exporter": "python",
   "pygments_lexer": "ipython3",
   "version": "3.7.4"
  }
 },
 "nbformat": 4,
 "nbformat_minor": 2
}
