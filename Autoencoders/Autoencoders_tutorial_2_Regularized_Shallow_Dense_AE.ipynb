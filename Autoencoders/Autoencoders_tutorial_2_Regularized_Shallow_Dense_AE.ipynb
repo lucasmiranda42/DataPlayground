{
 "cells": [
  {
   "cell_type": "code",
   "execution_count": 48,
   "metadata": {},
   "outputs": [],
   "source": [
    "from keras.backend import clear_session\n",
    "from keras.layers import Input, Dense\n",
    "from keras.models import Model\n",
    "from keras import regularizers\n",
    "clear_session()\n",
    "\n",
    "# this is the size of our encoded representations\n",
    "encoding_dim = 32  # 32 floats -> compression of factor 24.5, assuming the input is 784 floats\n",
    "\n",
    "# this is our input placeholder\n",
    "input_img = Input(shape=(784,))\n",
    "# \"encoded\" is the encoded representation of the input\n",
    "encoded = Dense(encoding_dim, activation='relu', activity_regularizer=regularizers.l1(1e-5))(input_img)\n",
    "# \"decoded\" is the lossy reconstruction of the input\n",
    "decoded = Dense(784, activation='sigmoid')(encoded)\n",
    "\n",
    "# this model maps an input to its reconstruction\n",
    "autoencoder = Model(input_img, decoded)"
   ]
  },
  {
   "cell_type": "code",
   "execution_count": 49,
   "metadata": {},
   "outputs": [],
   "source": [
    "# this model maps an input to its encoded representation\n",
    "encoder = Model(input_img, encoded)"
   ]
  },
  {
   "cell_type": "code",
   "execution_count": 50,
   "metadata": {},
   "outputs": [
    {
     "name": "stdout",
     "output_type": "stream",
     "text": [
      "Model: \"model_3\"\n",
      "_________________________________________________________________\n",
      "Layer (type)                 Output Shape              Param #   \n",
      "=================================================================\n",
      "input_2 (InputLayer)         (None, 32)                0         \n",
      "_________________________________________________________________\n",
      "dense_2 (Dense)              (None, 784)               25872     \n",
      "=================================================================\n",
      "Total params: 25,872\n",
      "Trainable params: 25,872\n",
      "Non-trainable params: 0\n",
      "_________________________________________________________________\n"
     ]
    }
   ],
   "source": [
    "# Create a placeholder for an encoded 32 dim input\n",
    "encoded_input = Input(shape=(encoding_dim,))\n",
    "# Retrieve the last layer of the autoencoder model\n",
    "decoder_layer = autoencoder.layers[-1]\n",
    "# create the decoder model\n",
    "decoder       = Model(encoded_input, decoder_layer(encoded_input))\n",
    "\n",
    "decoder.summary()"
   ]
  },
  {
   "cell_type": "code",
   "execution_count": 51,
   "metadata": {},
   "outputs": [],
   "source": [
    "autoencoder.compile(optimizer='adam', loss='binary_crossentropy')"
   ]
  },
  {
   "cell_type": "code",
   "execution_count": 52,
   "metadata": {},
   "outputs": [],
   "source": [
    "from keras.datasets import mnist\n",
    "import numpy as np\n",
    "(x_train, _), (x_test, _) = mnist.load_data()"
   ]
  },
  {
   "cell_type": "code",
   "execution_count": 53,
   "metadata": {},
   "outputs": [],
   "source": [
    "x_train = x_train.astype('float32') / 255\n",
    "x_test  =  x_test.astype('float32') / 255\n",
    "x_train = x_train.reshape((len(x_train), np.prod(x_train.shape[1:])))\n",
    "x_test  =  x_test.reshape((len(x_test),  np.prod(x_test.shape[1:])))"
   ]
  },
  {
   "cell_type": "code",
   "execution_count": 54,
   "metadata": {},
   "outputs": [
    {
     "name": "stdout",
     "output_type": "stream",
     "text": [
      "(60000, 784)\n",
      "(10000, 784)\n"
     ]
    }
   ],
   "source": [
    "print(x_train.shape)\n",
    "print(x_test.shape)"
   ]
  },
  {
   "cell_type": "code",
   "execution_count": 55,
   "metadata": {
    "scrolled": true
   },
   "outputs": [
    {
     "name": "stdout",
     "output_type": "stream",
     "text": [
      "Train on 60000 samples, validate on 10000 samples\n",
      "Epoch 1/100\n",
      "60000/60000 [==============================] - 2s 26us/step - loss: 0.4337 - val_loss: 0.3051\n",
      "Epoch 2/100\n",
      "60000/60000 [==============================] - 1s 24us/step - loss: 0.2737 - val_loss: 0.2503\n",
      "Epoch 3/100\n",
      "60000/60000 [==============================] - 1s 25us/step - loss: 0.2409 - val_loss: 0.2311\n",
      "Epoch 4/100\n",
      "60000/60000 [==============================] - 1s 24us/step - loss: 0.2256 - val_loss: 0.2192\n",
      "Epoch 5/100\n",
      "60000/60000 [==============================] - 1s 24us/step - loss: 0.2161 - val_loss: 0.2114\n",
      "Epoch 6/100\n",
      "60000/60000 [==============================] - 1s 24us/step - loss: 0.2093 - val_loss: 0.2056\n",
      "Epoch 7/100\n",
      "60000/60000 [==============================] - 1s 24us/step - loss: 0.2041 - val_loss: 0.2010\n",
      "Epoch 8/100\n",
      "60000/60000 [==============================] - 1s 25us/step - loss: 0.1999 - val_loss: 0.1963\n",
      "Epoch 9/100\n",
      "60000/60000 [==============================] - 1s 25us/step - loss: 0.1952 - val_loss: 0.1924\n",
      "Epoch 10/100\n",
      "60000/60000 [==============================] - 2s 26us/step - loss: 0.1921 - val_loss: 0.1899\n",
      "Epoch 11/100\n",
      "60000/60000 [==============================] - 2s 26us/step - loss: 0.1897 - val_loss: 0.1876\n",
      "Epoch 12/100\n",
      "60000/60000 [==============================] - 1s 25us/step - loss: 0.1877 - val_loss: 0.1857\n",
      "Epoch 13/100\n",
      "60000/60000 [==============================] - 2s 27us/step - loss: 0.1860 - val_loss: 0.1841\n",
      "Epoch 14/100\n",
      "60000/60000 [==============================] - 1s 24us/step - loss: 0.1845 - val_loss: 0.1828\n",
      "Epoch 15/100\n",
      "60000/60000 [==============================] - 1s 25us/step - loss: 0.1832 - val_loss: 0.1815\n",
      "Epoch 16/100\n",
      "60000/60000 [==============================] - 2s 26us/step - loss: 0.1819 - val_loss: 0.1802\n",
      "Epoch 17/100\n",
      "60000/60000 [==============================] - 2s 26us/step - loss: 0.1808 - val_loss: 0.1792\n",
      "Epoch 18/100\n",
      "60000/60000 [==============================] - 2s 26us/step - loss: 0.1798 - val_loss: 0.1782\n",
      "Epoch 19/100\n",
      "60000/60000 [==============================] - 1s 25us/step - loss: 0.1788 - val_loss: 0.1772\n",
      "Epoch 20/100\n",
      "60000/60000 [==============================] - 2s 25us/step - loss: 0.1779 - val_loss: 0.1763\n",
      "Epoch 21/100\n",
      "60000/60000 [==============================] - 1s 25us/step - loss: 0.1770 - val_loss: 0.1755\n",
      "Epoch 22/100\n",
      "60000/60000 [==============================] - 2s 25us/step - loss: 0.1762 - val_loss: 0.1747\n",
      "Epoch 23/100\n",
      "60000/60000 [==============================] - 1s 25us/step - loss: 0.1755 - val_loss: 0.1739\n",
      "Epoch 24/100\n",
      "60000/60000 [==============================] - 2s 25us/step - loss: 0.1747 - val_loss: 0.1732\n",
      "Epoch 25/100\n",
      "60000/60000 [==============================] - 2s 26us/step - loss: 0.1740 - val_loss: 0.1726\n",
      "Epoch 26/100\n",
      "60000/60000 [==============================] - 2s 26us/step - loss: 0.1734 - val_loss: 0.1720\n",
      "Epoch 27/100\n",
      "60000/60000 [==============================] - 2s 27us/step - loss: 0.1728 - val_loss: 0.1714\n",
      "Epoch 28/100\n",
      "60000/60000 [==============================] - 2s 28us/step - loss: 0.1722 - val_loss: 0.1708\n",
      "Epoch 29/100\n",
      "60000/60000 [==============================] - 2s 29us/step - loss: 0.1716 - val_loss: 0.1703\n",
      "Epoch 30/100\n",
      "60000/60000 [==============================] - 2s 27us/step - loss: 0.1711 - val_loss: 0.1698\n",
      "Epoch 31/100\n",
      "60000/60000 [==============================] - 2s 27us/step - loss: 0.1705 - val_loss: 0.1691\n",
      "Epoch 32/100\n",
      "60000/60000 [==============================] - 2s 27us/step - loss: 0.1700 - val_loss: 0.1687\n",
      "Epoch 33/100\n",
      "60000/60000 [==============================] - 2s 28us/step - loss: 0.1696 - val_loss: 0.1682\n",
      "Epoch 34/100\n",
      "60000/60000 [==============================] - 2s 29us/step - loss: 0.1691 - val_loss: 0.1679\n",
      "Epoch 35/100\n",
      "60000/60000 [==============================] - 2s 29us/step - loss: 0.1687 - val_loss: 0.1674\n",
      "Epoch 36/100\n",
      "60000/60000 [==============================] - 2s 29us/step - loss: 0.1683 - val_loss: 0.1671\n",
      "Epoch 37/100\n",
      "60000/60000 [==============================] - 2s 29us/step - loss: 0.1679 - val_loss: 0.1666\n",
      "Epoch 38/100\n",
      "60000/60000 [==============================] - 2s 29us/step - loss: 0.1675 - val_loss: 0.1663\n",
      "Epoch 39/100\n",
      "60000/60000 [==============================] - 2s 29us/step - loss: 0.1672 - val_loss: 0.1660\n",
      "Epoch 40/100\n",
      "60000/60000 [==============================] - 2s 29us/step - loss: 0.1669 - val_loss: 0.1656\n",
      "Epoch 41/100\n",
      "60000/60000 [==============================] - 2s 29us/step - loss: 0.1665 - val_loss: 0.1652\n",
      "Epoch 42/100\n",
      "60000/60000 [==============================] - 2s 30us/step - loss: 0.1662 - val_loss: 0.1653\n",
      "Epoch 43/100\n",
      "60000/60000 [==============================] - 2s 29us/step - loss: 0.1659 - val_loss: 0.1648\n",
      "Epoch 44/100\n",
      "60000/60000 [==============================] - 2s 30us/step - loss: 0.1657 - val_loss: 0.1645\n",
      "Epoch 45/100\n",
      "60000/60000 [==============================] - 2s 32us/step - loss: 0.1654 - val_loss: 0.1643\n",
      "Epoch 46/100\n",
      "60000/60000 [==============================] - 2s 34us/step - loss: 0.1651 - val_loss: 0.1641\n",
      "Epoch 47/100\n",
      "60000/60000 [==============================] - 2s 36us/step - loss: 0.1649 - val_loss: 0.1636\n",
      "Epoch 48/100\n",
      "60000/60000 [==============================] - 2s 36us/step - loss: 0.1647 - val_loss: 0.1634\n",
      "Epoch 49/100\n",
      "60000/60000 [==============================] - 2s 38us/step - loss: 0.1644 - val_loss: 0.1633\n",
      "Epoch 50/100\n",
      "60000/60000 [==============================] - 2s 37us/step - loss: 0.1642 - val_loss: 0.1630\n",
      "Epoch 51/100\n",
      "60000/60000 [==============================] - 2s 38us/step - loss: 0.1640 - val_loss: 0.1628\n",
      "Epoch 52/100\n",
      "60000/60000 [==============================] - 2s 38us/step - loss: 0.1638 - val_loss: 0.1626\n",
      "Epoch 53/100\n",
      "60000/60000 [==============================] - 2s 38us/step - loss: 0.1636 - val_loss: 0.1626\n",
      "Epoch 54/100\n",
      "60000/60000 [==============================] - 2s 38us/step - loss: 0.1634 - val_loss: 0.1622\n",
      "Epoch 55/100\n",
      "60000/60000 [==============================] - 2s 40us/step - loss: 0.1632 - val_loss: 0.1620\n",
      "Epoch 56/100\n",
      "60000/60000 [==============================] - 2s 40us/step - loss: 0.1630 - val_loss: 0.1619\n",
      "Epoch 57/100\n",
      "60000/60000 [==============================] - 2s 40us/step - loss: 0.1629 - val_loss: 0.1616\n",
      "Epoch 58/100\n",
      "60000/60000 [==============================] - 2s 39us/step - loss: 0.1627 - val_loss: 0.1615\n",
      "Epoch 59/100\n",
      "60000/60000 [==============================] - 2s 40us/step - loss: 0.1626 - val_loss: 0.1615\n",
      "Epoch 60/100\n",
      "60000/60000 [==============================] - 2s 38us/step - loss: 0.1624 - val_loss: 0.1614\n",
      "Epoch 61/100\n",
      "60000/60000 [==============================] - 2s 39us/step - loss: 0.1622 - val_loss: 0.1609\n",
      "Epoch 62/100\n",
      "60000/60000 [==============================] - 2s 37us/step - loss: 0.1621 - val_loss: 0.1610\n",
      "Epoch 63/100\n",
      "60000/60000 [==============================] - 2s 37us/step - loss: 0.1620 - val_loss: 0.1608\n",
      "Epoch 64/100\n",
      "60000/60000 [==============================] - 2s 36us/step - loss: 0.1619 - val_loss: 0.1605\n",
      "Epoch 65/100\n",
      "60000/60000 [==============================] - 2s 36us/step - loss: 0.1617 - val_loss: 0.1604\n",
      "Epoch 66/100\n",
      "60000/60000 [==============================] - 2s 35us/step - loss: 0.1616 - val_loss: 0.1606\n",
      "Epoch 67/100\n",
      "60000/60000 [==============================] - 2s 34us/step - loss: 0.1614 - val_loss: 0.1601\n",
      "Epoch 68/100\n",
      "60000/60000 [==============================] - 2s 33us/step - loss: 0.1613 - val_loss: 0.1602\n",
      "Epoch 69/100\n",
      "60000/60000 [==============================] - 2s 33us/step - loss: 0.1612 - val_loss: 0.1601\n",
      "Epoch 70/100\n",
      "60000/60000 [==============================] - 2s 32us/step - loss: 0.1611 - val_loss: 0.1600\n",
      "Epoch 71/100\n",
      "60000/60000 [==============================] - 2s 32us/step - loss: 0.1610 - val_loss: 0.1597\n",
      "Epoch 72/100\n",
      "60000/60000 [==============================] - 2s 32us/step - loss: 0.1609 - val_loss: 0.1596\n",
      "Epoch 73/100\n",
      "60000/60000 [==============================] - 2s 32us/step - loss: 0.1608 - val_loss: 0.1596\n",
      "Epoch 74/100\n",
      "60000/60000 [==============================] - 2s 32us/step - loss: 0.1607 - val_loss: 0.1594\n",
      "Epoch 75/100\n",
      "60000/60000 [==============================] - 2s 32us/step - loss: 0.1606 - val_loss: 0.1594\n",
      "Epoch 76/100\n",
      "60000/60000 [==============================] - 2s 31us/step - loss: 0.1605 - val_loss: 0.1593\n",
      "Epoch 77/100\n"
     ]
    },
    {
     "name": "stdout",
     "output_type": "stream",
     "text": [
      "60000/60000 [==============================] - 2s 30us/step - loss: 0.1604 - val_loss: 0.1592\n",
      "Epoch 78/100\n",
      "60000/60000 [==============================] - 2s 29us/step - loss: 0.1603 - val_loss: 0.1592\n",
      "Epoch 79/100\n",
      "60000/60000 [==============================] - 2s 28us/step - loss: 0.1602 - val_loss: 0.1589\n",
      "Epoch 80/100\n",
      "60000/60000 [==============================] - 2s 28us/step - loss: 0.1601 - val_loss: 0.1589\n",
      "Epoch 81/100\n",
      "60000/60000 [==============================] - 2s 28us/step - loss: 0.1600 - val_loss: 0.1587\n",
      "Epoch 82/100\n",
      "60000/60000 [==============================] - 2s 28us/step - loss: 0.1599 - val_loss: 0.1587\n",
      "Epoch 83/100\n",
      "60000/60000 [==============================] - 2s 27us/step - loss: 0.1599 - val_loss: 0.1585\n",
      "Epoch 84/100\n",
      "60000/60000 [==============================] - 2s 27us/step - loss: 0.1598 - val_loss: 0.1586\n",
      "Epoch 85/100\n",
      "60000/60000 [==============================] - 2s 28us/step - loss: 0.1597 - val_loss: 0.1586\n",
      "Epoch 86/100\n",
      "60000/60000 [==============================] - 2s 27us/step - loss: 0.1596 - val_loss: 0.1584\n",
      "Epoch 87/100\n",
      "60000/60000 [==============================] - 2s 27us/step - loss: 0.1595 - val_loss: 0.1583\n",
      "Epoch 88/100\n",
      "60000/60000 [==============================] - 2s 27us/step - loss: 0.1594 - val_loss: 0.1583\n",
      "Epoch 89/100\n",
      "60000/60000 [==============================] - 2s 28us/step - loss: 0.1594 - val_loss: 0.1582\n",
      "Epoch 90/100\n",
      "60000/60000 [==============================] - 2s 26us/step - loss: 0.1593 - val_loss: 0.1581\n",
      "Epoch 91/100\n",
      "60000/60000 [==============================] - 2s 28us/step - loss: 0.1593 - val_loss: 0.1581\n",
      "Epoch 92/100\n",
      "60000/60000 [==============================] - 2s 28us/step - loss: 0.1592 - val_loss: 0.1579\n",
      "Epoch 93/100\n",
      "60000/60000 [==============================] - 2s 28us/step - loss: 0.1591 - val_loss: 0.1580\n",
      "Epoch 94/100\n",
      "60000/60000 [==============================] - 2s 28us/step - loss: 0.1590 - val_loss: 0.1578\n",
      "Epoch 95/100\n",
      "60000/60000 [==============================] - 2s 28us/step - loss: 0.1590 - val_loss: 0.1579\n",
      "Epoch 96/100\n",
      "60000/60000 [==============================] - 2s 27us/step - loss: 0.1589 - val_loss: 0.1576\n",
      "Epoch 97/100\n",
      "60000/60000 [==============================] - 2s 27us/step - loss: 0.1588 - val_loss: 0.1578\n",
      "Epoch 98/100\n",
      "60000/60000 [==============================] - 2s 28us/step - loss: 0.1588 - val_loss: 0.1577\n",
      "Epoch 99/100\n",
      "60000/60000 [==============================] - 2s 28us/step - loss: 0.1587 - val_loss: 0.1575\n",
      "Epoch 100/100\n",
      "60000/60000 [==============================] - 2s 28us/step - loss: 0.1587 - val_loss: 0.1575\n"
     ]
    }
   ],
   "source": [
    "hist = autoencoder.fit(x_train, x_train, epochs=100, batch_size=256, shuffle=True, validation_data=(x_test,x_test), verbose=1)"
   ]
  },
  {
   "cell_type": "code",
   "execution_count": 56,
   "metadata": {},
   "outputs": [
    {
     "data": {
      "image/png": "[encoded data removed]",
      "text/plain": [
       "<Figure size 432x288 with 1 Axes>"
      ]
     },
     "metadata": {
      "needs_background": "light"
     },
     "output_type": "display_data"
    }
   ],
   "source": [
    "import matplotlib.pyplot as plt\n",
    "\n",
    "plt.plot(hist.history['loss'], linewidth=2, label='Train')\n",
    "plt.plot(hist.history['val_loss'], linewidth=2, label='Validation')\n",
    "plt.legend(loc='upper right')\n",
    "plt.title('Model loss')\n",
    "plt.ylabel('Loss')\n",
    "plt.xlabel('Epoch')\n",
    "plt.show()"
   ]
  },
  {
   "cell_type": "code",
   "execution_count": 57,
   "metadata": {},
   "outputs": [],
   "source": [
    "# Encode and decode some digits\n",
    "encoded_imgs = encoder.predict(x_test)\n",
    "decoded_imgs = decoder.predict(encoded_imgs)"
   ]
  },
  {
   "cell_type": "code",
   "execution_count": 58,
   "metadata": {
    "scrolled": true
   },
   "outputs": [
    {
     "data": {
      "image/png": "[encoded data removed]",
      "text/plain": [
       "<Figure size 1440x288 with 20 Axes>"
      ]
     },
     "metadata": {
      "needs_background": "light"
     },
     "output_type": "display_data"
    }
   ],
   "source": [
    "n=10\n",
    "plt.figure(figsize=(20,4))\n",
    "\n",
    "for i in range(n):\n",
    "    ax = plt.subplot(2,n,i+1)\n",
    "    plt.imshow(x_test[i].reshape(28,28))\n",
    "    plt.gray()\n",
    "    ax.get_xaxis().set_visible(False)\n",
    "    ax.get_yaxis().set_visible(False)\n",
    "    \n",
    "    ax = plt.subplot(2, n, i+1+n)\n",
    "    plt.imshow(decoded_imgs[i].reshape(28,28))\n",
    "    plt.gray()\n",
    "    ax.get_xaxis().set_visible(False)\n",
    "    ax.get_yaxis().set_visible(False)\n",
    "\n",
    "plt.show()"
   ]
  },
  {
   "cell_type": "code",
   "execution_count": null,
   "metadata": {},
   "outputs": [],
   "source": []
  }
 ],
 "metadata": {
  "kernelspec": {
   "display_name": "Python 3",
   "language": "python",
   "name": "python3"
  },
  "language_info": {
   "codemirror_mode": {
    "name": "ipython",
    "version": 3
   },
   "file_extension": ".py",
   "mimetype": "text/x-python",
   "name": "python",
   "nbconvert_exporter": "python",
   "pygments_lexer": "ipython3",
   "version": "3.7.4"
  }
 },
 "nbformat": 4,
 "nbformat_minor": 2
}
