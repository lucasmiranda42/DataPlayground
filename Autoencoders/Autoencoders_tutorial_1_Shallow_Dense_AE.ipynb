{
 "cells": [
  {
   "cell_type": "markdown",
   "metadata": {},
   "source": [
    "# Shallow dense AE for MNIST"
   ]
  },
  {
   "cell_type": "code",
   "execution_count": 79,
   "metadata": {},
   "outputs": [],
   "source": [
    "from keras.backend import clear_session\n",
    "from keras.layers import Input, Dense\n",
    "from keras.models import Model\n",
    "clear_session()\n",
    "\n",
    "# this is the size of our encoded representations\n",
    "encoding_dim = 32  # 32 floats -> compression of factor 24.5, assuming the input is 784 floats\n",
    "\n",
    "# this is our input placeholder\n",
    "input_img = Input(shape=(784,))\n",
    "# \"encoded\" is the encoded representation of the input\n",
    "encoded = Dense(encoding_dim, activation='relu')(input_img)\n",
    "# \"decoded\" is the lossy reconstruction of the input\n",
    "decoded = Dense(784, activation='sigmoid')(encoded)\n",
    "\n",
    "# this model maps an input to its reconstruction\n",
    "autoencoder = Model(input_img, decoded)"
   ]
  },
  {
   "cell_type": "code",
   "execution_count": 80,
   "metadata": {},
   "outputs": [],
   "source": [
    "# this model maps an input to its encoded representation\n",
    "encoder = Model(input_img, encoded)"
   ]
  },
  {
   "cell_type": "code",
   "execution_count": 81,
   "metadata": {},
   "outputs": [
    {
     "name": "stdout",
     "output_type": "stream",
     "text": [
      "Model: \"model_3\"\n",
      "_________________________________________________________________\n",
      "Layer (type)                 Output Shape              Param #   \n",
      "=================================================================\n",
      "input_2 (InputLayer)         (None, 32)                0         \n",
      "_________________________________________________________________\n",
      "dense_2 (Dense)              (None, 784)               25872     \n",
      "=================================================================\n",
      "Total params: 25,872\n",
      "Trainable params: 25,872\n",
      "Non-trainable params: 0\n",
      "_________________________________________________________________\n"
     ]
    }
   ],
   "source": [
    "# Create a placeholder for an encoded 32 dim input\n",
    "encoded_input = Input(shape=(encoding_dim,))\n",
    "# Retrieve the last layer of the autoencoder model\n",
    "decoder_layer = autoencoder.layers[-1]\n",
    "# create the decoder model\n",
    "decoder       = Model(encoded_input, decoder_layer(encoded_input))\n",
    "\n",
    "decoder.summary()"
   ]
  },
  {
   "cell_type": "code",
   "execution_count": 82,
   "metadata": {},
   "outputs": [],
   "source": [
    "autoencoder.compile(optimizer='adam', loss='binary_crossentropy')"
   ]
  },
  {
   "cell_type": "code",
   "execution_count": 83,
   "metadata": {},
   "outputs": [],
   "source": [
    "from keras.datasets import mnist\n",
    "import numpy as np\n",
    "(x_train, _), (x_test, _) = mnist.load_data()"
   ]
  },
  {
   "cell_type": "code",
   "execution_count": 84,
   "metadata": {},
   "outputs": [],
   "source": [
    "x_train = x_train.astype('float32') / 255\n",
    "x_test  =  x_test.astype('float32') / 255\n",
    "x_train = x_train.reshape((len(x_train), np.prod(x_train.shape[1:])))\n",
    "x_test  =  x_test.reshape((len(x_test),  np.prod(x_test.shape[1:])))"
   ]
  },
  {
   "cell_type": "code",
   "execution_count": 85,
   "metadata": {},
   "outputs": [
    {
     "name": "stdout",
     "output_type": "stream",
     "text": [
      "(60000, 784)\n",
      "(10000, 784)\n"
     ]
    }
   ],
   "source": [
    "print(x_train.shape)\n",
    "print(x_test.shape)"
   ]
  },
  {
   "cell_type": "code",
   "execution_count": 94,
   "metadata": {},
   "outputs": [
    {
     "name": "stdout",
     "output_type": "stream",
     "text": [
      "Train on 60000 samples, validate on 10000 samples\n",
      "Epoch 1/100\n",
      "60000/60000 [==============================] - 1s 23us/step - loss: 0.1423 - val_loss: 0.1325\n",
      "Epoch 2/100\n",
      "60000/60000 [==============================] - 1s 23us/step - loss: 0.1277 - val_loss: 0.1206\n",
      "Epoch 3/100\n",
      "60000/60000 [==============================] - 1s 24us/step - loss: 0.1175 - val_loss: 0.1121\n",
      "Epoch 4/100\n",
      "60000/60000 [==============================] - 1s 23us/step - loss: 0.1103 - val_loss: 0.1065\n",
      "Epoch 5/100\n",
      "60000/60000 [==============================] - 1s 24us/step - loss: 0.1054 - val_loss: 0.1021\n",
      "Epoch 6/100\n",
      "60000/60000 [==============================] - 1s 24us/step - loss: 0.1019 - val_loss: 0.0993\n",
      "Epoch 7/100\n",
      "60000/60000 [==============================] - 1s 24us/step - loss: 0.0995 - val_loss: 0.0973\n",
      "Epoch 8/100\n",
      "60000/60000 [==============================] - 1s 24us/step - loss: 0.0979 - val_loss: 0.0960\n",
      "Epoch 9/100\n",
      "60000/60000 [==============================] - 1s 24us/step - loss: 0.0967 - val_loss: 0.0951\n",
      "Epoch 10/100\n",
      "60000/60000 [==============================] - 1s 24us/step - loss: 0.0959 - val_loss: 0.0945\n",
      "Epoch 11/100\n",
      "60000/60000 [==============================] - 2s 25us/step - loss: 0.0954 - val_loss: 0.0940\n",
      "Epoch 12/100\n",
      "60000/60000 [==============================] - 1s 24us/step - loss: 0.0950 - val_loss: 0.0937\n",
      "Epoch 13/100\n",
      "60000/60000 [==============================] - 1s 25us/step - loss: 0.0947 - val_loss: 0.0934\n",
      "Epoch 14/100\n",
      "60000/60000 [==============================] - 2s 25us/step - loss: 0.0945 - val_loss: 0.0932\n",
      "Epoch 15/100\n",
      "60000/60000 [==============================] - 2s 25us/step - loss: 0.0943 - val_loss: 0.0930\n",
      "Epoch 16/100\n",
      "60000/60000 [==============================] - 2s 26us/step - loss: 0.0941 - val_loss: 0.0928\n",
      "Epoch 17/100\n",
      "60000/60000 [==============================] - 2s 25us/step - loss: 0.0940 - val_loss: 0.0927\n",
      "Epoch 18/100\n",
      "60000/60000 [==============================] - 1s 24us/step - loss: 0.0938 - val_loss: 0.0926\n",
      "Epoch 19/100\n",
      "60000/60000 [==============================] - 1s 25us/step - loss: 0.0937 - val_loss: 0.0925\n",
      "Epoch 20/100\n",
      "60000/60000 [==============================] - 2s 25us/step - loss: 0.0936 - val_loss: 0.0925\n",
      "Epoch 21/100\n",
      "60000/60000 [==============================] - 2s 25us/step - loss: 0.0936 - val_loss: 0.0923\n",
      "Epoch 22/100\n",
      "60000/60000 [==============================] - 1s 25us/step - loss: 0.0935 - val_loss: 0.0923\n",
      "Epoch 23/100\n",
      "60000/60000 [==============================] - 2s 25us/step - loss: 0.0934 - val_loss: 0.0922\n",
      "Epoch 24/100\n",
      "60000/60000 [==============================] - 2s 25us/step - loss: 0.0934 - val_loss: 0.0921\n",
      "Epoch 25/100\n",
      "60000/60000 [==============================] - 2s 25us/step - loss: 0.0933 - val_loss: 0.0921\n",
      "Epoch 26/100\n",
      "60000/60000 [==============================] - 2s 26us/step - loss: 0.0932 - val_loss: 0.0921\n",
      "Epoch 27/100\n",
      "60000/60000 [==============================] - 2s 26us/step - loss: 0.0932 - val_loss: 0.0921\n",
      "Epoch 28/100\n",
      "60000/60000 [==============================] - 2s 26us/step - loss: 0.0932 - val_loss: 0.0920\n",
      "Epoch 29/100\n",
      "60000/60000 [==============================] - 2s 26us/step - loss: 0.0931 - val_loss: 0.0919\n",
      "Epoch 30/100\n",
      "60000/60000 [==============================] - 2s 26us/step - loss: 0.0931 - val_loss: 0.0919\n",
      "Epoch 31/100\n",
      "60000/60000 [==============================] - 2s 26us/step - loss: 0.0930 - val_loss: 0.0919\n",
      "Epoch 32/100\n",
      "60000/60000 [==============================] - 2s 26us/step - loss: 0.0930 - val_loss: 0.0918\n",
      "Epoch 33/100\n",
      "60000/60000 [==============================] - 2s 26us/step - loss: 0.0930 - val_loss: 0.0918\n",
      "Epoch 34/100\n",
      "60000/60000 [==============================] - 2s 26us/step - loss: 0.0929 - val_loss: 0.0918\n",
      "Epoch 35/100\n",
      "60000/60000 [==============================] - 2s 26us/step - loss: 0.0929 - val_loss: 0.0917\n",
      "Epoch 36/100\n",
      "60000/60000 [==============================] - 2s 26us/step - loss: 0.0929 - val_loss: 0.0918\n",
      "Epoch 37/100\n",
      "60000/60000 [==============================] - 2s 27us/step - loss: 0.0929 - val_loss: 0.0917\n",
      "Epoch 38/100\n",
      "60000/60000 [==============================] - 2s 28us/step - loss: 0.0928 - val_loss: 0.0917\n",
      "Epoch 39/100\n",
      "60000/60000 [==============================] - 2s 27us/step - loss: 0.0928 - val_loss: 0.0917\n",
      "Epoch 40/100\n",
      "60000/60000 [==============================] - 2s 28us/step - loss: 0.0928 - val_loss: 0.0917\n",
      "Epoch 41/100\n",
      "60000/60000 [==============================] - 2s 31us/step - loss: 0.0928 - val_loss: 0.0917\n",
      "Epoch 42/100\n",
      "60000/60000 [==============================] - 2s 34us/step - loss: 0.0927 - val_loss: 0.0916\n",
      "Epoch 43/100\n",
      "60000/60000 [==============================] - 2s 37us/step - loss: 0.0927 - val_loss: 0.0916\n",
      "Epoch 44/100\n",
      "60000/60000 [==============================] - 2s 40us/step - loss: 0.0927 - val_loss: 0.0916\n",
      "Epoch 45/100\n",
      "60000/60000 [==============================] - 3s 43us/step - loss: 0.0927 - val_loss: 0.0917\n",
      "Epoch 46/100\n",
      "60000/60000 [==============================] - 3s 46us/step - loss: 0.0927 - val_loss: 0.0916\n",
      "Epoch 47/100\n",
      "60000/60000 [==============================] - 3s 47us/step - loss: 0.0927 - val_loss: 0.0916\n",
      "Epoch 48/100\n",
      "60000/60000 [==============================] - 3s 47us/step - loss: 0.0926 - val_loss: 0.0915\n",
      "Epoch 49/100\n",
      "60000/60000 [==============================] - 3s 47us/step - loss: 0.0926 - val_loss: 0.0916\n",
      "Epoch 50/100\n",
      "60000/60000 [==============================] - 3s 49us/step - loss: 0.0926 - val_loss: 0.0915\n",
      "Epoch 51/100\n",
      "60000/60000 [==============================] - 3s 50us/step - loss: 0.0926 - val_loss: 0.0915\n",
      "Epoch 52/100\n",
      "60000/60000 [==============================] - 3s 47us/step - loss: 0.0926 - val_loss: 0.0915\n",
      "Epoch 53/100\n",
      "60000/60000 [==============================] - 3s 47us/step - loss: 0.0926 - val_loss: 0.0915\n",
      "Epoch 54/100\n",
      "60000/60000 [==============================] - 3s 44us/step - loss: 0.0926 - val_loss: 0.0914\n",
      "Epoch 55/100\n",
      "60000/60000 [==============================] - 3s 42us/step - loss: 0.0926 - val_loss: 0.0914\n",
      "Epoch 56/100\n",
      "60000/60000 [==============================] - 2s 41us/step - loss: 0.0926 - val_loss: 0.0914\n",
      "Epoch 57/100\n",
      "60000/60000 [==============================] - 2s 38us/step - loss: 0.0925 - val_loss: 0.0914\n",
      "Epoch 58/100\n",
      "60000/60000 [==============================] - 2s 38us/step - loss: 0.0925 - val_loss: 0.0914\n",
      "Epoch 59/100\n",
      "60000/60000 [==============================] - 2s 35us/step - loss: 0.0925 - val_loss: 0.0915\n",
      "Epoch 60/100\n",
      "60000/60000 [==============================] - 2s 34us/step - loss: 0.0925 - val_loss: 0.0914\n",
      "Epoch 61/100\n",
      "60000/60000 [==============================] - 2s 34us/step - loss: 0.0925 - val_loss: 0.0914\n",
      "Epoch 62/100\n",
      "60000/60000 [==============================] - 2s 32us/step - loss: 0.0925 - val_loss: 0.0914\n",
      "Epoch 63/100\n",
      "60000/60000 [==============================] - 2s 32us/step - loss: 0.0925 - val_loss: 0.0914\n",
      "Epoch 64/100\n",
      "60000/60000 [==============================] - 2s 32us/step - loss: 0.0925 - val_loss: 0.0914\n",
      "Epoch 65/100\n",
      "60000/60000 [==============================] - 2s 31us/step - loss: 0.0925 - val_loss: 0.0914\n",
      "Epoch 66/100\n",
      "60000/60000 [==============================] - 2s 30us/step - loss: 0.0925 - val_loss: 0.0913\n",
      "Epoch 67/100\n",
      "60000/60000 [==============================] - 2s 30us/step - loss: 0.0925 - val_loss: 0.0914\n",
      "Epoch 68/100\n",
      "60000/60000 [==============================] - 2s 31us/step - loss: 0.0925 - val_loss: 0.0914\n",
      "Epoch 69/100\n",
      "60000/60000 [==============================] - 2s 29us/step - loss: 0.0924 - val_loss: 0.0914\n",
      "Epoch 70/100\n",
      "60000/60000 [==============================] - 2s 29us/step - loss: 0.0924 - val_loss: 0.0914\n",
      "Epoch 71/100\n",
      "60000/60000 [==============================] - 2s 27us/step - loss: 0.0924 - val_loss: 0.0915\n",
      "Epoch 72/100\n",
      "60000/60000 [==============================] - 2s 27us/step - loss: 0.0924 - val_loss: 0.0914\n",
      "Epoch 73/100\n",
      "60000/60000 [==============================] - 2s 29us/step - loss: 0.0924 - val_loss: 0.0914\n",
      "Epoch 74/100\n",
      "60000/60000 [==============================] - 2s 27us/step - loss: 0.0924 - val_loss: 0.0913\n",
      "Epoch 75/100\n",
      "60000/60000 [==============================] - 2s 27us/step - loss: 0.0924 - val_loss: 0.0915\n",
      "Epoch 76/100\n",
      "60000/60000 [==============================] - 2s 27us/step - loss: 0.0924 - val_loss: 0.0914\n",
      "Epoch 77/100\n",
      "60000/60000 [==============================] - 2s 27us/step - loss: 0.0924 - val_loss: 0.0913\n",
      "Epoch 78/100\n",
      "60000/60000 [==============================] - 2s 27us/step - loss: 0.0924 - val_loss: 0.0914\n",
      "Epoch 79/100\n",
      "60000/60000 [==============================] - 2s 27us/step - loss: 0.0924 - val_loss: 0.0913\n",
      "Epoch 80/100\n",
      "60000/60000 [==============================] - 2s 29us/step - loss: 0.0924 - val_loss: 0.0913\n",
      "Epoch 81/100\n",
      "60000/60000 [==============================] - 2s 29us/step - loss: 0.0924 - val_loss: 0.0914\n",
      "Epoch 82/100\n",
      "60000/60000 [==============================] - 2s 29us/step - loss: 0.0924 - val_loss: 0.0913\n",
      "Epoch 83/100\n",
      "60000/60000 [==============================] - 2s 29us/step - loss: 0.0924 - val_loss: 0.0913\n",
      "Epoch 84/100\n",
      "60000/60000 [==============================] - 2s 29us/step - loss: 0.0924 - val_loss: 0.0913\n",
      "Epoch 85/100\n",
      "60000/60000 [==============================] - 2s 28us/step - loss: 0.0924 - val_loss: 0.0913\n",
      "Epoch 86/100\n",
      "60000/60000 [==============================] - 2s 27us/step - loss: 0.0924 - val_loss: 0.0913\n",
      "Epoch 87/100\n",
      "60000/60000 [==============================] - 2s 28us/step - loss: 0.0924 - val_loss: 0.0913\n",
      "Epoch 88/100\n",
      "60000/60000 [==============================] - 2s 30us/step - loss: 0.0924 - val_loss: 0.0913\n",
      "Epoch 89/100\n",
      "60000/60000 [==============================] - 2s 29us/step - loss: 0.0924 - val_loss: 0.0913\n",
      "Epoch 90/100\n",
      "60000/60000 [==============================] - 2s 29us/step - loss: 0.0923 - val_loss: 0.0913\n",
      "Epoch 91/100\n",
      "60000/60000 [==============================] - 2s 29us/step - loss: 0.0923 - val_loss: 0.0912\n",
      "Epoch 92/100\n",
      "60000/60000 [==============================] - 2s 30us/step - loss: 0.0923 - val_loss: 0.0913\n",
      "Epoch 93/100\n",
      "60000/60000 [==============================] - 2s 29us/step - loss: 0.0923 - val_loss: 0.0913\n",
      "Epoch 94/100\n",
      "60000/60000 [==============================] - 2s 30us/step - loss: 0.0923 - val_loss: 0.0913\n",
      "Epoch 95/100\n",
      "60000/60000 [==============================] - 2s 33us/step - loss: 0.0923 - val_loss: 0.0913\n",
      "Epoch 96/100\n",
      "60000/60000 [==============================] - 2s 31us/step - loss: 0.0923 - val_loss: 0.0913\n",
      "Epoch 97/100\n",
      "60000/60000 [==============================] - 2s 32us/step - loss: 0.0923 - val_loss: 0.0913\n",
      "Epoch 98/100\n",
      "60000/60000 [==============================] - 2s 32us/step - loss: 0.0923 - val_loss: 0.0913\n",
      "Epoch 99/100\n",
      "60000/60000 [==============================] - 2s 32us/step - loss: 0.0923 - val_loss: 0.0913\n",
      "Epoch 100/100\n",
      "60000/60000 [==============================] - 2s 32us/step - loss: 0.0923 - val_loss: 0.0912\n"
     ]
    }
   ],
   "source": [
    "hist = autoencoder.fit(x_train, x_train, epochs=100, batch_size=256, shuffle=True, validation_data=(x_test,x_test), verbose=1)"
   ]
  },
  {
   "cell_type": "code",
   "execution_count": 95,
   "metadata": {},
   "outputs": [
    {
     "data": {
      "image/png": "[encoded data removed]",
      "text/plain": [
       "<Figure size 432x288 with 1 Axes>"
      ]
     },
     "metadata": {
      "needs_background": "light"
     },
     "output_type": "display_data"
    }
   ],
   "source": [
    "import matplotlib.pyplot as plt\n",
    "\n",
    "plt.plot(hist.history['loss'], linewidth=2, label='Train')\n",
    "plt.plot(hist.history['val_loss'], linewidth=2, label='Validation')\n",
    "plt.legend(loc='upper right')\n",
    "plt.title('Model loss')\n",
    "plt.ylabel('Loss')\n",
    "plt.xlabel('Epoch')\n",
    "plt.show()"
   ]
  },
  {
   "cell_type": "code",
   "execution_count": 96,
   "metadata": {},
   "outputs": [],
   "source": [
    "# Encode and decode some digits\n",
    "encoded_imgs = encoder.predict(x_test)\n",
    "decoded_imgs = decoder.predict(encoded_imgs)"
   ]
  },
  {
   "cell_type": "code",
   "execution_count": 97,
   "metadata": {},
   "outputs": [
    {
     "data": {
      "image/png": "[encoded data removed]",
      "text/plain": [
       "<Figure size 1440x288 with 20 Axes>"
      ]
     },
     "metadata": {
      "needs_background": "light"
     },
     "output_type": "display_data"
    }
   ],
   "source": [
    "n=10\n",
    "plt.figure(figsize=(20,4))\n",
    "\n",
    "for i in range(n):\n",
    "    ax = plt.subplot(2,n,i+1)\n",
    "    plt.imshow(x_test[i].reshape(28,28))\n",
    "    plt.gray()\n",
    "    ax.get_xaxis().set_visible(False)\n",
    "    ax.get_yaxis().set_visible(False)\n",
    "    \n",
    "    ax = plt.subplot(2, n, i+1+n)\n",
    "    plt.imshow(decoded_imgs[i].reshape(28,28))\n",
    "    plt.gray()\n",
    "    ax.get_xaxis().set_visible(False)\n",
    "    ax.get_yaxis().set_visible(False)\n",
    "\n",
    "plt.show()"
   ]
  },
  {
   "cell_type": "code",
   "execution_count": null,
   "metadata": {},
   "outputs": [],
   "source": []
  }
 ],
 "metadata": {
  "kernelspec": {
   "display_name": "Python 3",
   "language": "python",
   "name": "python3"
  },
  "language_info": {
   "codemirror_mode": {
    "name": "ipython",
    "version": 3
   },
   "file_extension": ".py",
   "mimetype": "text/x-python",
   "name": "python",
   "nbconvert_exporter": "python",
   "pygments_lexer": "ipython3",
   "version": "3.7.4"
  }
 },
 "nbformat": 4,
 "nbformat_minor": 2
}
